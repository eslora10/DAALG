{
 "cells": [
  {
   "cell_type": "markdown",
   "metadata": {},
   "source": [
    "## 1. Cuestiones sobre circuitos y caminos eulerianos"
   ]
  },
  {
   "cell_type": "markdown",
   "metadata": {},
   "source": [
    "1. Tras las funciones anteriores nos hemos dado cuenta de que las mismas no tratan sobre grafos NO dirigidos. Indicar brevemente que cambios harían falta, si alguno, para que nuestras funciones pudieran buscar caminos y circuitos eulerianos en tales grafos."
   ]
  },
  {
   "cell_type": "markdown",
   "metadata": {},
   "source": [
    "2. El criterio sobre existencia de caminos o circuitos eulerianos solo funciona cuando el grafo no contiene subgrafos disjuntos. ¿Como podr íamos detectar dicha condicion? "
   ]
  },
  {
   "cell_type": "markdown",
   "metadata": {},
   "source": [
    "## 2. Cuestiones sobre recontrucción de secuencias"
   ]
  },
  {
   "cell_type": "markdown",
   "metadata": {},
   "source": [
    "1. Si se tiene una secuencia P de longitud $l_{P}$ y se usan lecturas (reads) de longitud $l_{R}$ para reconstruirlas mediante un camino o circuito euleriano sobre un grafo $G = (V, E)$, queremos estudiar cuantos nodos $|V|$ y cuantas ramas $|E|$ hay y cual seríaa el sparsity factor $\\rho$.\n",
    "Para ello vamos a hacer un pequeño estudio experimental de estas cantidades, fijando una longitud $l_{P}$ suficientemente grande y estimando el numero de vértices, ramas y el sparsity factor para diferentes valores de $l_{R}$. Escribir una funcion Python que estime dichos numeros de vértices, ramas y sparsity factor, describir sus resultados y comentarlos. "
   ]
  },
  {
   "cell_type": "markdown",
   "metadata": {},
   "source": [
    "2. El coste de reconstruir una secuencia no solo depende de la búsqueda de un camino euleriano sino también del tiempo empleado en la construccion del grafo. Discutir los costes asociados a las funciones spectrum(sequence, len_read), spectrum_2(spectr) y spectrum_2_undirected_graph(spectr) definidas más arriba de acuerdo a la implementaci ´ on que se haya seguido y, en consecuencia, el coste total del algoritmo de reconstruccion de secuencias."
   ]
  },
  {
   "cell_type": "markdown",
   "metadata": {},
   "source": []
  }
 ],
 "metadata": {
  "kernelspec": {
   "display_name": "Python 3",
   "language": "python",
   "name": "python3"
  },
  "language_info": {
   "codemirror_mode": {
    "name": "ipython",
    "version": 3
   },
   "file_extension": ".py",
   "mimetype": "text/x-python",
   "name": "python",
   "nbconvert_exporter": "python",
   "pygments_lexer": "ipython3",
   "version": "3.5.2"
  }
 },
 "nbformat": 4,
 "nbformat_minor": 2
}
