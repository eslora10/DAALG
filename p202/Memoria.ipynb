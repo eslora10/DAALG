{
 "cells": [
  {
   "cell_type": "markdown",
   "metadata": {},
   "source": [
    "## 1. Cuestiones sobre circuitos y caminos eulerianos"
   ]
  },
  {
   "cell_type": "markdown",
   "metadata": {},
   "source": [
    "1. Tras las funciones anteriores nos hemos dado cuenta de que las mismas no tratan sobre grafos NO dirigidos. Indicar brevemente que cambios harían falta, si alguno, para que nuestras funciones pudieran buscar caminos y circuitos eulerianos en tales grafos."
   ]
  },
  {
   "cell_type": "markdown",
   "metadata": {},
   "source": [
    "  Habría que modificar la función **adj_inc_directed_multigraph**, puesto que para encontrar caminos y circuitos eulerianos sobre grafos no dirigidos, basta con calcular el grado de cada nodo.\n",
    "Asimismo, habría que cambiar las funciones **isthere_euler_path_multigraph** y **isthere_euler_circuit_multigraph**. En el caso de un camino, debería comprobar que todos los nodos tienen grado par excepto dos, en el caso de un circuito que todos los nodos tienen grado par.\n",
    "La función **first_last_euler_path_directed_multigraph** debería ahora devolver indistintamente los dos nodos con grado impar."
   ]
  },
  {
   "cell_type": "markdown",
   "metadata": {},
   "source": [
    "2. El criterio sobre existencia de caminos o circuitos eulerianos solo funciona cuando el grafo no contiene subgrafos disjuntos. ¿Como podríamos detectar dicha condicion? "
   ]
  },
  {
   "cell_type": "markdown",
   "metadata": {},
   "source": []
  },
  {
   "cell_type": "markdown",
   "metadata": {},
   "source": [
    "## 2. Cuestiones sobre recontrucción de secuencias"
   ]
  },
  {
   "cell_type": "markdown",
   "metadata": {},
   "source": [
    "1. Si se tiene una secuencia P de longitud $l_{P}$ y se usan lecturas (reads) de longitud $l_{R}$ para reconstruirlas mediante un camino o circuito euleriano sobre un grafo $G = (V, E)$, queremos estudiar cuantos nodos $|V|$ y cuantas ramas $|E|$ hay y cual sería el sparsity factor $\\rho$.\n",
    "Para ello vamos a hacer un pequeño estudio experimental de estas cantidades, fijando una longitud $l_{P}$ suficientemente grande y estimando el numero de vértices, ramas y el sparsity factor para diferentes valores de $l_{R}$. Escribir una funcion Python que estime dichos numeros de vértices, ramas y sparsity factor, describir sus resultados y comentarlos. "
   ]
  },
  {
   "cell_type": "code",
   "execution_count": null,
   "metadata": {},
   "outputs": [],
   "source": [
    "import grafos02 as sq\n",
    "lp = 1000\n",
    "N = 100\n",
    "sequence = sq.random_sequence(lp)\n",
    "ed = []\n",
    "nd = []\n",
    "rho = []\n",
    "for lr in range(3,60, 3):\n",
    "    num_nodes = 0\n",
    "    num_edges = 0\n",
    "    for _ in range(N):\n",
    "        spectr = sq.spectrum(sequence, lr)\n",
    "        spectr2 = sq.spectrum_2(spectr)\n",
    "        num_nodes += len(spectr2)\n",
    "        d_mg = sq.spectrum_2_graph(spectr)\n",
    "        num_edges += sum([len([d_mg[i][j]]) for i in d_mg.keys() for j in d_mg[i].keys()])\n",
    "    num_edges /= N\n",
    "    num_nodes /= N\n",
    "    ed.append(num_edges)\n",
    "    nd.append(num_nodes)\n",
    "    rho.append(num_edges/num_nodes**2)"
   ]
  },
  {
   "cell_type": "code",
   "execution_count": 11,
   "metadata": {},
   "outputs": [
    {
     "data": {
      "image/png": "[encoded data removed]",
      "text/plain": [
       "<matplotlib.figure.Figure at 0x7f61e4420390>"
      ]
     },
     "metadata": {
      "needs_background": "light"
     },
     "output_type": "display_data"
    }
   ],
   "source": [
    "import matplotlib.pyplot as plt\n",
    "\n",
    "plt.plot(range(3,60,3), ed, label=\"Number of edges\")\n",
    "plt.plot(range(3,60,3), nd, label=\"Number of nodes\")\n",
    "plt.plot(range(3,60,3), rho, label=\"Sparsity factor\")\n",
    "plt.show()"
   ]
  },
  {
   "cell_type": "markdown",
   "metadata": {},
   "source": [
    "2. El coste de reconstruir una secuencia no solo depende de la búsqueda de un camino euleriano sino también del tiempo empleado en la construccion del grafo. Discutir los costes asociados a las funciones spectrum(sequence, len_read), spectrum_2(spectr) y spectrum_2_undirected_graph(spectr) definidas más arriba de acuerdo a la implementaci ´ on que se haya seguido y, en consecuencia, el coste total del algoritmo de reconstruccion de secuencias."
   ]
  },
  {
   "cell_type": "markdown",
   "metadata": {},
   "source": []
  }
 ],
 "metadata": {
  "kernelspec": {
   "display_name": "Python 3",
   "language": "python",
   "name": "python3"
  },
  "language_info": {
   "codemirror_mode": {
    "name": "ipython",
    "version": 3
   },
   "file_extension": ".py",
   "mimetype": "text/x-python",
   "name": "python",
   "nbconvert_exporter": "python",
   "pygments_lexer": "ipython3",
   "version": "3.5.2"
  }
 },
 "nbformat": 4,
 "nbformat_minor": 2
}
