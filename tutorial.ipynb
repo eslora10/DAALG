{
 "metadata": {
  "name": "",
  "signature": "sha256:075f9d3ef2889ce9bae913b074fdc37df4b61133c026cc0fe17563e2b13ed663"
 },
 "nbformat": 3,
 "nbformat_minor": 0,
 "worksheets": [
  {
   "cells": [
    {
     "cell_type": "code",
     "collapsed": false,
     "input": [
      "import sys\n",
      "\n",
      "print(dir(1))\n",
      "\n",
      "print(\"\\nbit length of %d: %d bits\" % (1, (1).bit_length() )) # El valor 1 ocupa solo un bit\n",
      "print(\"      size of %d: %d bytes\" % (1, sys.getsizeof(1))) # No obstante el entero 1 requiere 28 bytes"
     ],
     "language": "python",
     "metadata": {},
     "outputs": [
      {
       "output_type": "stream",
       "stream": "stdout",
       "text": [
        "['__abs__', '__add__', '__and__', '__bool__', '__ceil__', '__class__', '__delattr__', '__dir__', '__divmod__', '__doc__', '__eq__', '__float__', '__floor__', '__floordiv__', '__format__', '__ge__', '__getattribute__', '__getnewargs__', '__gt__', '__hash__', '__index__', '__init__', '__int__', '__invert__', '__le__', '__lshift__', '__lt__', '__mod__', '__mul__', '__ne__', '__neg__', '__new__', '__or__', '__pos__', '__pow__', '__radd__', '__rand__', '__rdivmod__', '__reduce__', '__reduce_ex__', '__repr__', '__rfloordiv__', '__rlshift__', '__rmod__', '__rmul__', '__ror__', '__round__', '__rpow__', '__rrshift__', '__rshift__', '__rsub__', '__rtruediv__', '__rxor__', '__setattr__', '__sizeof__', '__str__', '__sub__', '__subclasshook__', '__truediv__', '__trunc__', '__xor__', 'bit_length', 'conjugate', 'denominator', 'from_bytes', 'imag', 'numerator', 'real', 'to_bytes']\n",
        "\n",
        "bit length of 1: 1 bits\n",
        "      size of 1: 28 bytes\n"
       ]
      }
     ],
     "prompt_number": 1
    },
    {
     "cell_type": "code",
     "collapsed": false,
     "input": [
      "# A diferencia de C los enteros son mucho m\u00e1s grandes\n",
      "1111111111111111111111111111111111111111111111111111111**2"
     ],
     "language": "python",
     "metadata": {},
     "outputs": [
      {
       "metadata": {},
       "output_type": "pyout",
       "prompt_number": 2,
       "text": [
        "1234567901234567901234567901234567901234567901234567900987654320987654320987654320987654320987654320987654321"
       ]
      }
     ],
     "prompt_number": 2
    },
    {
     "cell_type": "code",
     "collapsed": false,
     "input": [
      "a = 1\n",
      "print(dir(a)) # Imprime la informacion de a, sus atributos\n",
      "b = float(a) # No es el casting de C, convertimos un objeto int en un float\n",
      "print(dir(b))\n",
      "\n",
      "# Podemos observar que los atributos son parecidos, pero no coinciden"
     ],
     "language": "python",
     "metadata": {},
     "outputs": [
      {
       "output_type": "stream",
       "stream": "stdout",
       "text": [
        "['__abs__', '__add__', '__and__', '__bool__', '__ceil__', '__class__', '__delattr__', '__dir__', '__divmod__', '__doc__', '__eq__', '__float__', '__floor__', '__floordiv__', '__format__', '__ge__', '__getattribute__', '__getnewargs__', '__gt__', '__hash__', '__index__', '__init__', '__int__', '__invert__', '__le__', '__lshift__', '__lt__', '__mod__', '__mul__', '__ne__', '__neg__', '__new__', '__or__', '__pos__', '__pow__', '__radd__', '__rand__', '__rdivmod__', '__reduce__', '__reduce_ex__', '__repr__', '__rfloordiv__', '__rlshift__', '__rmod__', '__rmul__', '__ror__', '__round__', '__rpow__', '__rrshift__', '__rshift__', '__rsub__', '__rtruediv__', '__rxor__', '__setattr__', '__sizeof__', '__str__', '__sub__', '__subclasshook__', '__truediv__', '__trunc__', '__xor__', 'bit_length', 'conjugate', 'denominator', 'from_bytes', 'imag', 'numerator', 'real', 'to_bytes']\n",
        "['__abs__', '__add__', '__bool__', '__class__', '__delattr__', '__dir__', '__divmod__', '__doc__', '__eq__', '__float__', '__floordiv__', '__format__', '__ge__', '__getattribute__', '__getformat__', '__getnewargs__', '__gt__', '__hash__', '__init__', '__int__', '__le__', '__lt__', '__mod__', '__mul__', '__ne__', '__neg__', '__new__', '__pos__', '__pow__', '__radd__', '__rdivmod__', '__reduce__', '__reduce_ex__', '__repr__', '__rfloordiv__', '__rmod__', '__rmul__', '__round__', '__rpow__', '__rsub__', '__rtruediv__', '__setattr__', '__setformat__', '__sizeof__', '__str__', '__sub__', '__subclasshook__', '__truediv__', '__trunc__', 'as_integer_ratio', 'conjugate', 'fromhex', 'hex', 'imag', 'is_integer', 'real']\n"
       ]
      }
     ],
     "prompt_number": 4
    },
    {
     "cell_type": "code",
     "collapsed": false,
     "input": [
      "s = 'abc'\n",
      "print(s+s, 10*s, len(10*s))\n",
      "\n",
      "print('\\n', (3*s)[1:6], (3*s)[:-1],  (3*s)[ : : -1])# El ultimo imprime la cadena entera pero invertida \n",
      "\n",
      "print('\\n', (3*s).replace('a', 'A'))\n",
      "\n",
      "s = ';'.join( ['a', 'b', 'c', 'd'] )\n",
      "print('\\n', s, '\\n', s.split(';'))\n",
      "\n",
      "s = '1 2  3   4    5' \n",
      "print('\\n', s.split(' '), '\\n', s.split())\n",
      "\n",
      "import string\n",
      "print(\"%s\\n%s\" % (string.digits, string.whitespace))\n",
      "\n",
      "#string.whitespace\n",
      "print(repr(string.whitespace))\n",
      "\n",
      "# Sobre las raw strings: \"a\\nb\" imprimiria a y b en la siguiente linea\n",
      "# r'a\\nb' imprime la cadena tal cual"
     ],
     "language": "python",
     "metadata": {},
     "outputs": [
      {
       "output_type": "stream",
       "stream": "stdout",
       "text": [
        "abcabc abcabcabcabcabcabcabcabcabcabc 30\n",
        "\n",
        " bcabc abcabcab cbacbacba\n",
        "\n",
        " AbcAbcAbc\n",
        "\n",
        " a;b;c;d \n",
        " ['a', 'b', 'c', 'd']\n",
        "\n",
        " ['1', '2', '', '3', '', '', '4', '', '', '', '5'] \n",
        " ['1', '2', '3', '4', '5']\n",
        "0123456789\n",
        " \t\n",
        "\r",
        "\u000b",
        "\f",
        "\n",
        "' \\t\\n\\r\\x0b\\x0c'\n"
       ]
      }
     ],
     "prompt_number": 5
    },
    {
     "cell_type": "code",
     "collapsed": false,
     "input": [
      "# Division entera -> a//b\n",
      "\n",
      "a = [] \n",
      "b = a \n",
      "\n",
      "a.append(1) \n",
      "b.append(2)\n",
      "\n",
      "print(a, b)\n",
      "\n",
      "a = 10 \n",
      "b = a \n",
      "a += 1\n",
      "\n",
      "print(a, b)\n",
      "\n",
      "a, b = b, a\n",
      "print (a, b)"
     ],
     "language": "python",
     "metadata": {},
     "outputs": [
      {
       "output_type": "stream",
       "stream": "stdout",
       "text": [
        "[1, 2] [1, 2]\n",
        "11 10\n",
        "10 11\n"
       ]
      }
     ],
     "prompt_number": 6
    },
    {
     "cell_type": "code",
     "collapsed": false,
     "input": [
      "def sqroot(x, eps=1.e-3):\n",
      "    \"\"\"Computes the square root of x up to a precision eps by approximate binary search.\n",
      "    \n",
      "    :param x: number whose square root is to be computed\n",
      "    :param eps: precision between x and the square of the approximate root\n",
      "    :type x: float\n",
      "    :type eps: float\n",
      "    :return: approximate square root\n",
      "    :rtype: float\n",
      "    \"\"\"\n",
      "    \n",
      "    assert (x   >= 1 ), \"error: input %f < 1.\" % x\n",
      "    assert (eps >  0.), \"error: precision %f <= 0.\" % eps\n",
      "    \n",
      "    left = 1.\n",
      "    right = x\n",
      "    sqr = (left+right)/2 \n",
      "    \n",
      "    while abs (sqr**2 - x) > eps:\n",
      "        if sqr**2 < x:\n",
      "            left = sqr\n",
      "        else:\n",
      "            right = sqr\n",
      "        sqr = (left+right)/2\n",
      "    \n",
      "    return sqr\n",
      "\n",
      "s = sqroot(2, 1.e-3)\n",
      "print(s, s*s)\n",
      "\n",
      "s = sqroot(2, 1.e-7)\n",
      "print(s, s*s)"
     ],
     "language": "python",
     "metadata": {},
     "outputs": [
      {
       "output_type": "stream",
       "stream": "stdout",
       "text": [
        "1.4140625 1.99957275390625\n",
        "1.4142135381698608 1.9999999315429164\n"
       ]
      }
     ],
     "prompt_number": 7
    },
    {
     "cell_type": "code",
     "collapsed": false,
     "input": [
      "# pydoc -w my_module para escribir el html con la documentacion\n"
     ],
     "language": "python",
     "metadata": {},
     "outputs": []
    }
   ],
   "metadata": {}
  }
 ]
}