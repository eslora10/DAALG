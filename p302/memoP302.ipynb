{
 "cells": [
  {
   "cell_type": "markdown",
   "metadata": {},
   "source": [
    "## 1. Cuestiones sobre la DFT"
   ]
  },
  {
   "cell_type": "markdown",
   "metadata": {},
   "source": [
    "**1. Con nuestras funciones podríamos ser al parecer capaces de multiplicar enteros con cualquier cantidad de dígitos. Esto nos lleva a la siguiente cuestión: ¿cuál es el tamaño máximo de un entero en Python 3.X? Para responderlo, investigar la implementación en Python 3.X de los enteros y describir brevemente los aspectos principales de la misma.**"
   ]
  },
  {
   "cell_type": "markdown",
   "metadata": {},
   "source": [
    "No existe numero máximo para un entero de python 3.X. Esto se debe a la implementación de los ints en python. Esquematizando, la implementación se resume en una estructura que contiene el numero de objetos C que se necesitan para representar el número y el valor de dichos números. \n",
    "\n",
    "Pongamos un ejemplo: <br>\n",
    "$123456789101112131415$ se representa con estos 3 bloques de números: <br>                                         $437976919 \\ \\ \\ \\ 87719511 \\ \\ \\ \\ 107$ cada uno de ellos en base 2^30 <br>\n",
    "Por tanto $123456789101112131415$ es igual a : <br>\n",
    "$(437976919 * 2^{30 * 0}) + (87719511 * 2^{30 * 1}) + (107 * 2^{30 * 2})$\n",
    "\n",
    "<br>\n",
    "Hemos encontrado en la <a href=\"https://rushter.com/blog/python-integer-implementation/\">web</a> una traducción de código C a python de las funciones que transforman números a listas y viceversa:"
   ]
  },
  {
   "cell_type": "code",
   "execution_count": 1,
   "metadata": {},
   "outputs": [],
   "source": [
    "SHIFT = 30  # number of bits for each 'digit'\n",
    "MASK = (2 ** SHIFT)\n",
    "bignum = 18446744073709551615\n",
    "\n",
    "def split_number(bignum):\n",
    "    t = abs(bignum)\n",
    "\n",
    "    num_list = []\n",
    "    while t != 0:\n",
    "        # Get remainder from division\n",
    "        small_int = t % MASK  # more efficient bitwise analogue: (t & (MASK-1))\n",
    "        num_list.append(small_int)\n",
    "\n",
    "        # Get integral part of the division (floor division)\n",
    "        t = t // MASK  # more efficient bitwise analogue: t >>= SHIFT\n",
    "\n",
    "    return num_list\n",
    "\n",
    "def restore_number(num_list):\n",
    "    bignum = 0\n",
    "    for i, n in enumerate(num_list):\n",
    "        bignum += n * (2 ** (SHIFT * i))\n",
    "    return bignum\n",
    "\n",
    "num_list = split_number(bignum)\n",
    "assert bignum == restore_number(num_list)"
   ]
  },
  {
   "cell_type": "markdown",
   "metadata": {},
   "source": [
    "**2. No nos hemos esforzado en optimizar el coste computacional de nuestra FFT. Un defecto mas o menos obvio es que muy probablemente calculemos repetidamente senos y cosenos en todas las llamadas recursivas mientras que en realidad bastaría hacerlo una vez en la primera ejecución recursiva. ¿Cómo implementarías esta posibilidad?**"
   ]
  },
  {
   "cell_type": "markdown",
   "metadata": {},
   "source": [
    "Nuestra propuesta consiste en declarar una estructura global que sea un diccionario con clave igual al nodo donde calculamos los senos y cosenos y valor una tupla con el seno y coseno evaluado. Inicialmente la estructura estará vacía. La primera vez que intentemos acceder al diccionario, obtendremos la excepción KeyError que capturaremos y calcularemos los valores. Así las siguientes veces que se busque la clave en el diccionario, obtendremos los valores de seno y coseno ya calculados."
   ]
  },
  {
   "cell_type": "markdown",
   "metadata": {},
   "source": [
    "## 2. Cuestiones sobre QuickSelect"
   ]
  },
  {
   "cell_type": "markdown",
   "metadata": {},
   "source": [
    "**1. Argumentar que MergeSort ordena una tabla de 5 elementos en a lo sumo 8 comparaciones de clave. **"
   ]
  },
  {
   "cell_type": "markdown",
   "metadata": {},
   "source": [
    "Supongamos que tenemos la permutación [a,b,c,d,e]. Simulemos el algoritmo de mergeSort.\n",
    "Dividimos la tabla: [a,b,c] [d,e].\n",
    "Dividimos la primera de las tablas: [a,b] [c]\n",
    "Al dividir la tabla [a,b] y hacer \"merge\" tenemos inevitablemente **1 cdc**.\n",
    "Posteriormente toca mezclar las tablas [a,b] y [c] suponiendo que ambas están ordenadas. A lo sumo tendremos **2 cdc** puesto que si c es mayor que a tocará compararlo con b.b\n",
    "Continuamos con la segunda mitad de la tabla con el \"merge\" de [d,e] de nuevo nos da **1 cdc**.\n",
    "Por último se mezclan las tablas [a.b.c] y [d,e]. A partir de aquí tenemos varios casos:\n",
    "1. Si d > c haremos solo **3 cdc** pues sabemos que e es mayor que d y por tanto no es necesario compararla con las demás.\n",
    "2. Si b < d < c, tenemos **3 cdc** y habrá que comparar c con e para ver cuál de ellas es mayor, lo que nos añade **1 cdc**.\n",
    "3. Si a < d < b, tenemos **2 cdc** hay que comparar e con b y c, que suma **2 cdc**\n",
    "4. Por último si d < a tenemos **1 cdc** y queda comparar e con a, b y c, es decir **3 cdc**\n",
    "\n",
    "Si sumamos todo, obtenemos un coste en el caso peor de **8 cdc**.\n",
    "\n",
    "\n"
   ]
  },
  {
   "cell_type": "markdown",
   "metadata": {},
   "source": [
    "**En realidad, en qselect_5 solo queremos encontrar la mediana de una tabla de 5 elementos, pero no ordenarla. ¿Podríamos reducir así el número de comparaciones de clave necesarias? En función del correspondiente número mínimo de cdcs, ¿cuál sería el caso peor WQSelect(N) en comparaciones de clave? **"
   ]
  },
  {
   "cell_type": "markdown",
   "metadata": {},
   "source": [
    "El número de comparaciones de clave podría reducirse a 7. El desarrollo del apartado anterior se mantiene igual hasta llegar al punto de mezclar [a,b,c] y [d,e]\n",
    "\n",
    "1. Si d > c haremos solo **3 cdc** y ya sabemos que la mediana es c, puesto que e > d.\n",
    "2. Si b < d < c, tenemos **3 cdc** y sabemos que la mediana es d.\n",
    "3. Si a < d < b, tenemos **2 cdc** y solo queda comparar e con b para ver cuál es la mediana (**1 cdc**).\n",
    "4. Por último si d < a tenemos **1 cdc**. Comparamos e con a (**1 cdc**), si e < a la mediana es a ([d,e,a,...]), en caso contrario, comparamos e con b (**1 cdc**) si e < b la mediana es e ([d,a,e,...]), en caso contrario la mediana es b ([d,a,b,..]).\n",
    "\n",
    "Para la segunda pregunta, solo tendríamos que sustituir el 8 por un 7 en el desarrollo que hicimos en clase. Obtenemos así un coste en el caso peor $\\leq 25.8N$\n"
   ]
  },
  {
   "cell_type": "markdown",
   "metadata": {},
   "source": [
    "**2. ¿Que tipo de crecimiento cabría esperar en el caso peor para los tiempos de ejecución de nuestra función qsort_5? Intenta justificar experimental y analíticamente tu respuesta. **"
   ]
  },
  {
   "cell_type": "markdown",
   "metadata": {},
   "source": [
    "El coste debería ser O(NlogN). Para ello medimos los tiempos del caso peor, es decir, la tabla totalmente ordenada, con qsort_5 para permutaciones entre tamaños de 10 y 100 con paso 10. Posteriormente pintamos sobre la misma gráfica la función NlogN, reescalando los valores obtenidos para poder compararlo."
   ]
  },
  {
   "cell_type": "code",
   "execution_count": 2,
   "metadata": {},
   "outputs": [],
   "source": [
    "import numpy as np\n",
    "import matplotlib.pyplot as plt\n",
    "from time import time\n",
    "from qselect02 import qsort_5\n",
    "ini = 10\n",
    "fin = 1000\n",
    "step = 10\n",
    "num_perm = 10\n",
    "t = []\n",
    "for tam in range(ini, fin+1, step):\n",
    "    t_aux = []\n",
    "    for _ in range(num_perm):\n",
    "        l = list(range(tam)) # Caso peor de QS\n",
    "        i = time()\n",
    "        qsort_5(l, 0, tam-1)\n",
    "        f = time()\n",
    "        t_aux.append(f-i)\n",
    "    t.append(np.mean(t_aux))\n"
   ]
  },
  {
   "cell_type": "code",
   "execution_count": 4,
   "metadata": {},
   "outputs": [
    {
     "data": {
      "image/png": "[encoded data removed]",
      "text/plain": [
       "<Figure size 432x288 with 1 Axes>"
      ]
     },
     "metadata": {},
     "output_type": "display_data"
    }
   ],
   "source": [
    "plt.plot(range(ini, fin+1, step), t, label=\"Tiempo qsort_5\")\n",
    "\n",
    "def f(ini, fin, step):\n",
    "    X = []\n",
    "    for N in range(ini, fin+1, step):\n",
    "        X.append(N*np.log(N)/2e6)\n",
    "    return X\n",
    "\n",
    "X = f(ini, fin, step)\n",
    "plt.plot(range(ini, fin+1, step), X, label=\"NlogN\")\n",
    "plt.legend()\n",
    "plt.xlabel(\"Tamaño permutación\")\n",
    "plt.ylabel(\"Tiempo ejecución\")\n",
    "plt.show()"
   ]
  },
  {
   "cell_type": "markdown",
   "metadata": {},
   "source": [
    "Se observa claramente que la función qsort_5 se ajusta bastante bien con NlogN"
   ]
  }
 ],
 "metadata": {
  "kernelspec": {
   "display_name": "Python 3",
   "language": "python",
   "name": "python3"
  },
  "language_info": {
   "codemirror_mode": {
    "name": "ipython",
    "version": 3
   },
   "file_extension": ".py",
   "mimetype": "text/x-python",
   "name": "python",
   "nbconvert_exporter": "python",
   "pygments_lexer": "ipython3",
   "version": "3.6.5"
  }
 },
 "nbformat": 4,
 "nbformat_minor": 2
}
