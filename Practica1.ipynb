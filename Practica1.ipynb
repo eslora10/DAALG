{
 "cells": [
  {
   "cell_type": "code",
   "execution_count": 1,
   "metadata": {},
   "outputs": [
    {
     "data": {
      "text/html": [
       "\n",
       "<script>code_show=true; \n",
       "\n",
       "function code_toggle() {\n",
       "    if (code_show){\n",
       "    $('div.input').hide();\n",
       "    } else {\n",
       "    $('div.input').show();\n",
       "    }\n",
       "    code_show = !code_show\n",
       "} \n",
       "\n",
       "$( document ).ready(code_toggle);\n",
       "</script>\n",
       "<form action=\"javascript:code_toggle()\"><input type=\"submit\" value=\"Click here to toggle on/off the raw code.\"></form>\n"
      ],
      "text/plain": [
       "<IPython.core.display.HTML object>"
      ]
     },
     "execution_count": 1,
     "metadata": {},
     "output_type": "execute_result"
    }
   ],
   "source": [
    "from IPython.display import HTML\n",
    "\n",
    "HTML('''\n",
    "<script>code_show=true; \n",
    "\n",
    "function code_toggle() {\n",
    "    if (code_show){\n",
    "    $('div.input').hide();\n",
    "    } else {\n",
    "    $('div.input').show();\n",
    "    }\n",
    "    code_show = !code_show\n",
    "} \n",
    "\n",
    "$( document ).ready(code_toggle);\n",
    "</script>\n",
    "<form action=\"javascript:code_toggle()\"><input type=\"submit\" value=\"Click here to toggle on/off the raw code.\"></form>\n",
    "''')"
   ]
  },
  {
   "cell_type": "markdown",
   "metadata": {},
   "source": [
    "# Práctica 1"
   ]
  },
  {
   "cell_type": "code",
   "execution_count": 22,
   "metadata": {},
   "outputs": [
    {
     "name": "stdout",
     "output_type": "stream",
     "text": [
      "The autoreload extension is already loaded. To reload it, use:\n",
      "  %reload_ext autoreload\n"
     ]
    }
   ],
   "source": [
    "%matplotlib inline\n",
    "%load_ext autoreload\n",
    "%autoreload 2"
   ]
  },
  {
   "cell_type": "code",
   "execution_count": 3,
   "metadata": {},
   "outputs": [],
   "source": [
    "import string, random\n",
    "import numpy as np\n",
    "import matplotlib.pyplot as plt\n",
    "import sys\n",
    "import time\n",
    "\n",
    "import queue as qe\n",
    "\n",
    "from sklearn.linear_model import LinearRegression\n",
    "\n",
    "import networkx as nx"
   ]
  },
  {
   "cell_type": "code",
   "execution_count": 20,
   "metadata": {},
   "outputs": [],
   "source": [
    "def fit_plot(l, func_2_fit, size_ini, size_fin, step):\n",
    "    l_func_values =[i*func_2_fit(i) for i in range(size_ini, size_fin+1, step)]\n",
    "    \n",
    "    lr_m = LinearRegression()\n",
    "    X = np.array(l_func_values).reshape( len(l_func_values), -1 )\n",
    "    lr_m.fit(X, l)\n",
    "    y_pred = lr_m.predict(X)\n",
    "    \n",
    "    plt.plot(l, '*', y_pred, '-')\n",
    "\n",
    "def n2_log_n(n):\n",
    "    return n**2. * np.log(n)"
   ]
  },
  {
   "cell_type": "markdown",
   "metadata": {},
   "source": [
    "En esta parte vamos a trabajar con grafos ponderados usando dos EdD:\n",
    "\n",
    "  * Una matriz numpy de adyacencia, donde el elemento i, j indica el peso  c_{ij`  de la rama  (i, j)\n",
    "  * Un diccionario de diccionarios de diccionarios donde las claves del primer diccionario G son índices de nodos, las claves de los diccionarios G[i] son los vértices de su lista de adyacencia y un diccionario G[i][j] contiene el peso de la rama (i, j).\n",
    "  \n",
    "Por ejemplo, para el gráfico\n",
    "\n",
    "grafo\n",
    "\n",
    "el código\n",
    "\n",
    "l = [[0, 10, 1, np.inf],\n",
    "[np.inf, 0, 1, np.inf],\n",
    "[np.inf, np.inf, 0, 1 ],\n",
    "[np.inf, 1, np.inf, 0]]\n",
    "\n",
    "m_g = np.array(l)\n",
    "\n",
    "generaría su matriz de adyacencia según se describe arriba, mientras que\n",
    "\n",
    "d_g = {\n",
    "0: {1: 10, 2:1}, \n",
    "1: {2: 1}, \n",
    "2: {3: 1},\n",
    "3: {1: 1}\n",
    "}\n",
    "\n",
    "generaría su descripción como un dict."
   ]
  },
  {
   "cell_type": "code",
   "execution_count": 5,
   "metadata": {},
   "outputs": [
    {
     "name": "stdout",
     "output_type": "stream",
     "text": [
      "graph_from_matrix:\n",
      "\n",
      "( 0 1 ) 10.0\n",
      "( 0 2 ) 1.0\n",
      "( 1 2 ) 1.0\n",
      "( 2 3 ) 1.0\n",
      "( 3 1 ) 1.0\n",
      "\n",
      "graph_from_dict:\n",
      "\n",
      "( 0 1 ) 10\n",
      "( 0 2 ) 1\n",
      "( 1 2 ) 1\n",
      "( 2 3 ) 1\n",
      "( 3 1 ) 1\n"
     ]
    }
   ],
   "source": [
    "l = [\n",
    "[0, 10, 1, np.inf],\n",
    "[np.inf, 0, 1, np.inf],\n",
    "[np.inf, np.inf, 0, 1 ],\n",
    "[np.inf, 1, np.inf, 0]\n",
    "]\n",
    "\n",
    "m_g = np.array(l)\n",
    "\n",
    "def print_m_g(m_g):\n",
    "    print(\"graph_from_matrix:\\n\")\n",
    "    n_v = m_g.shape[0]\n",
    "    for u in range(n_v):\n",
    "        for v in range(n_v):\n",
    "            if v != u and m_g[u, v] != np.inf:\n",
    "                print(\"(\", u, v, \")\", m_g[u, v])\n",
    "\n",
    "            \n",
    "d_g = {\n",
    "0: {1: 10, 2: 1}, \n",
    "1: {2: 1}, \n",
    "2: {3: 1},\n",
    "3: {1: 1}\n",
    "}\n",
    "\n",
    "def print_d_g(d_g):\n",
    "    print(\"\\ngraph_from_dict:\\n\")\n",
    "    for u in d_g.keys():\n",
    "        for v in d_g[u].keys():\n",
    "            print(\"(\", u, v, \")\", d_g[u][v])\n",
    "            \n",
    "print_m_g(m_g)\n",
    "print_d_g(d_g)\n"
   ]
  },
  {
   "cell_type": "code",
   "execution_count": 6,
   "metadata": {},
   "outputs": [
    {
     "name": "stdout",
     "output_type": "stream",
     "text": [
      "[[  0.  inf  inf]\n",
      " [ inf   0.  44.]\n",
      " [ 48.  36.   0.]]\n",
      "{0: {}, 1: {2: 44.0}, 2: {0: 48.0, 1: 36.0}}\n",
      "[[  0.  inf  inf]\n",
      " [ inf   0.  44.]\n",
      " [ 48.  36.   0.]]\n"
     ]
    }
   ],
   "source": [
    "def rand_matr_pos_graph(n_nodes, sparse_factor, max_weight=50., decimals=0):\n",
    "    \"\"\"\n",
    "    \n",
    "    \"\"\"\n",
    "    m=np.random.random((n_nodes, n_nodes))\n",
    "    np.place(m,m<1-sparse_factor,np.inf)\n",
    "    m=m*max_weight # Reescalado de los datos\n",
    "    np.fill_diagonal(m,0)\n",
    "    return m.round(decimals)\n",
    "\n",
    "def m_g_2_d_g(m_g):\n",
    "    \"\"\"\n",
    "    \n",
    "    TODO: ¿Hay que eliminar los 0's de lso dict?\n",
    "    \n",
    "    TODO: ¿Mejor forma de hacerlo?¿pythonic way?\n",
    "    \"\"\"\n",
    "    dim=m_g.shape\n",
    "    \n",
    "    d_g={}\n",
    "    for i in range(dim[0]):\n",
    "        d_g[i]={}\n",
    "        for j in range(dim[1]):\n",
    "            if j != i and m_g[i][j] != np.inf:\n",
    "                d_g[i][j]=m_g[i][j]\n",
    "\n",
    "    return d_g\n",
    "\n",
    "def d_g_2_m_g(d_g):\n",
    "    \"\"\"\n",
    "    \"\"\"\n",
    "    l = len(d_g)\n",
    "    m_g = np.full((l,l), np.inf)\n",
    "    for i in d_g:\n",
    "        for j in d_g[i]:\n",
    "            m_g[i][j] = d_g[i][j]\n",
    "    np.fill_diagonal(m_g,0)\n",
    "    return m_g\n",
    "\n",
    "if __name__=='__main__':\n",
    "    m = rand_matr_pos_graph(3,0.3)\n",
    "    print(m)\n",
    "    d = m_g_2_d_g(m)\n",
    "    print(d)\n",
    "    print(d_g_2_m_g(d))\n",
    "\n"
   ]
  },
  {
   "cell_type": "code",
   "execution_count": 7,
   "metadata": {},
   "outputs": [
    {
     "name": "stdout",
     "output_type": "stream",
     "text": [
      "5\n",
      "\n",
      "true_sparse_factor: 0.750 \n",
      "exp_sparse_factor:  0.711\n"
     ]
    }
   ],
   "source": [
    "def cuenta_ramas(m_g):\n",
    "    \"\"\"\n",
    "    \"\"\"\n",
    "    dim = m_g.shape[0]\n",
    "    # Al tamanno total de la matriz (dim**2) le restamos\n",
    "    # el numero de inf. \n",
    "    # Restamos los ceros de la diagonal\n",
    "    return dim**2-len(np.where(m_g == np.inf)[0])-dim    \n",
    "\n",
    "\n",
    "def check_sparse_factor(n_grafos, n_nodes, sparse_factor):\n",
    "    \"\"\"\n",
    "    \"\"\"\n",
    "    acum=0\n",
    "    for n in range(n_grafos):\n",
    "        m=rand_matr_pos_graph(n_nodes,sparse_factor)\n",
    "        sf=cuenta_ramas(m)/n_nodes**2\n",
    "\n",
    "        acum+=sf\n",
    "    return acum/n_grafos\n",
    "\n",
    "\n",
    "############################################################ checking\n",
    "print(cuenta_ramas(m_g))\n",
    "\n",
    "n_grafos=50\n",
    "n_nodes=20\n",
    "sparse_factor = 0.75\n",
    "\n",
    "print(\"\\ntrue_sparse_factor: %.3f\" % sparse_factor, \n",
    "      \"\\nexp_sparse_factor:  %.3f\" % check_sparse_factor(n_grafos=n_grafos, n_nodes=n_nodes, sparse_factor=sparse_factor))"
   ]
  },
  {
   "cell_type": "markdown",
   "metadata": {},
   "source": [
    "# 2 Guardando y leyendo grafos"
   ]
  },
  {
   "cell_type": "markdown",
   "metadata": {},
   "source": [
    "### 2.1 Guardando y leyendo grafos con pickle"
   ]
  },
  {
   "cell_type": "code",
   "execution_count": 8,
   "metadata": {},
   "outputs": [],
   "source": [
    "def save_object(obj, f_name=\"obj.pklz\", save_path='.'):\n",
    "    \"\"\"\"\"\"\n",
    "    # Apertura del fichero comprimido en modo escritura\n",
    "    file_path = os.path.join(save_path, f_name)\n",
    "    with gzip.open(file_path, mode=\"wb\", compresslevel=9) as file:\n",
    "        # Volcado del objeto\n",
    "        pickle.dump(obj, file, protocol=None)\n",
    "\n",
    "\n",
    "def read_object(f_name, save_path='.'):\n",
    "    \"\"\"\"\"\"\n",
    "    # Apertura del fichero comprimido en modo lectura\n",
    "    file_path = os.path.join(save_path, f_name)\n",
    "    with gzip.open(file_path, mode=\"rb\", compresslevel=9) as file:\n",
    "        # Lectura del objeto\n",
    "        pickle.load(file)\n",
    "       "
   ]
  },
  {
   "cell_type": "markdown",
   "metadata": {},
   "source": [
    "### 2.2 The Trivial Graph Format"
   ]
  },
  {
   "cell_type": "code",
   "execution_count": 9,
   "metadata": {},
   "outputs": [
    {
     "name": "stdout",
     "output_type": "stream",
     "text": [
      "\n",
      "graph_from_dict:\n",
      "\n",
      "( 0 1 ) 10\n",
      "( 0 2 ) 1\n",
      "( 1 2 ) 1\n",
      "( 2 3 ) 1\n",
      "( 3 1 ) 1\n",
      "\n",
      "graph_from_dict:\n",
      "\n",
      "( 0 1 ) 10.0\n",
      "( 0 2 ) 1.0\n",
      "( 1 2 ) 1.0\n",
      "( 2 3 ) 1.0\n",
      "( 3 1 ) 1.0\n"
     ]
    }
   ],
   "source": [
    "def d_g_2_TGF(d_g, f_name):\n",
    "    \"\"\"\n",
    "    \"\"\"\n",
    "    with open(f_name,'w') as f:\n",
    "        for k in d_g:\n",
    "            print(str(k), file=f)\n",
    "        print('#', file=f)\n",
    "\n",
    "        for d in d_g:\n",
    "            for dd in d_g[d]:\n",
    "                print(\"{0}\\t{1}\\t{2}\".format(d, dd, d_g[d][dd]), file=f)\n",
    "    \n",
    "def TGF_2_d_g(f_name):\n",
    "    \"\"\"\n",
    "    \"\"\"\n",
    "    d_g = {}\n",
    "    with open(f_name, 'r') as file:\n",
    "        ls= file.readlines()\n",
    "        i=0\n",
    "        for l in ls:\n",
    "            if l == '#\\n':\n",
    "                break\n",
    "            d_g[int(l[:-1])] = {}\n",
    "            i+=1\n",
    "        for line in ls[i+1:]:\n",
    "            rama = line[:-1].split('\\t')\n",
    "            d_g[int(rama[0])][int(rama[1])] = float(rama[2])\n",
    "    return d_g \n",
    "    \n",
    "    \n",
    "############################################################ checking\n",
    "f_name = \"gr.tgf\"\n",
    "d_g_2_TGF(d_g, f_name)\n",
    "                       \n",
    "d_g_2 = TGF_2_d_g(f_name)            \n",
    "print_d_g(d_g)\n",
    "print_d_g(d_g_2)"
   ]
  },
  {
   "cell_type": "markdown",
   "metadata": {},
   "source": [
    "# 3 Distancias Mínimas en Grafos"
   ]
  },
  {
   "cell_type": "markdown",
   "metadata": {},
   "source": [
    "### 3.1 Programming and Timing Dijkstra"
   ]
  },
  {
   "cell_type": "code",
   "execution_count": 10,
   "metadata": {},
   "outputs": [
    {
     "name": "stdout",
     "output_type": "stream",
     "text": [
      "{0: inf, 1: 1, 2: 2, 3: 0} \n",
      " {1: [3, 1], 2: [3, 1, 2], 3: [3]}\n",
      "{1: 1, 2: 2, 3: 0} \n",
      " {1: [3, 1], 2: [3, 1, 2], 3: [3]}\n"
     ]
    }
   ],
   "source": [
    "from queue import PriorityQueue\n",
    "\n",
    "def dijkstra_d(d_g, u):\n",
    "    \"\"\" Implementacion del algoritmo de Dijkstra con listas de adyacencia\n",
    "    :d_g: Lista de adyacencia que representa el grafo\n",
    "    :u: Nodo inicial\n",
    "    :type d_g: dictionary, keys are integers, values are dictionarys\n",
    "    :type u: int\n",
    "    :return: d_dist lista de distancias minimas encontradas\n",
    "    :return: d_prev camino\n",
    "    \"\"\"\n",
    "    # Inicializacion\n",
    "    s = {node: False for node in d_g}\n",
    "    d_prev = {}\n",
    "    d_dist = {node: np.inf for node in d_g}\n",
    "    Q = PriorityQueue()\n",
    "    d_dist[u] = 0\n",
    "    Q.put((d_dist[u],u))\n",
    "    while not Q.empty():\n",
    "        d_v, v = Q.get()\n",
    "        if not s[v]:\n",
    "            s[v] = True\n",
    "        for z in d_g[v]:\n",
    "            if d_dist[z] > d_v + d_g[v][z]:\n",
    "                d_dist[z] = d_v + d_g[v][z]\n",
    "                d_prev[z] = v\n",
    "                Q.put((d_dist[z],z))\n",
    "    return d_dist,d_prev\n",
    "\n",
    "def dijkstra_m(m_g, u):\n",
    "    \"\"\" Implementacion del algoritmo de Dijkstra con matrices\n",
    "    :u: Nodo inicial\n",
    "    :type m_g: np 2 dimentional array\n",
    "    :type u: int\n",
    "    :return: d lista de distancias minimas encontradas\n",
    "    :return: p camino\n",
    "    \"\"\"\n",
    "    # Inicializacion\n",
    "    n = m_g.shape[0]\n",
    "    s = {i: False for i in range(n)}\n",
    "    d_prev = {}\n",
    "    d_dist = {i: np.inf for i in range(n)}\n",
    "    Q = PriorityQueue()\n",
    "    d_dist[u] = 0\n",
    "    Q.put((d_dist[u],u))\n",
    "    while not Q.empty():\n",
    "        d_v, v = Q.get()\n",
    "        if not s[v]:\n",
    "            s[v] = True\n",
    "        for z in range(n):\n",
    "            if d_dist[z] > d_v + m_g[v][z]:\n",
    "                d_dist[z] = d_v + m_g[v][z]\n",
    "                d_prev[z] = v\n",
    "                Q.put((d_dist[z],z))\n",
    "    return d_dist,d_prev \n",
    "def min_paths(d_prev):\n",
    "    \"\"\"\n",
    "    :d_prev: diccionario con el nodo previo a cada nodo\n",
    "    :d_prev type: diccionario\n",
    "    :return: diccionario de listas con el camino desde cada nodo inicial a cada nodo\n",
    "    \"\"\"\n",
    "    d_path = {}\n",
    "    for node in d_prev:\n",
    "        node2 = d_prev[node]\n",
    "        d_path[node] = [node2, node]\n",
    "        while node2 in d_prev:\n",
    "            node2 = d_prev[node2]\n",
    "            d_path[node].insert(0,node2)\n",
    "    d_path[node2] = [node2]\n",
    "    return d_path\n",
    "    \n",
    "    \n",
    "def time_dijkstra_m(n_graphs, n_nodes_ini, n_nodes_fin, step, sparse_factor=.25):\n",
    "    \"\"\" Genera un conjunto de grafos con distintos numeros de nodos para comprobar\n",
    "    el coste teorico del algoritmo de Dijkstra.\n",
    "    :n_grafos: numero de grafos a generar\n",
    "    :n_nodes_ini: numero inicial de nodos del grafo\n",
    "    :n_nodes_fin: numero final de nodos del grafo\n",
    "    :step: paso en cada iteracion de numero de nodos\n",
    "    :sparse_factor: factor de dispersion de la matriz\n",
    "    :type n_grafos: int\n",
    "    :type n_nodes_ini: int\n",
    "    :type n_nodes_fin: int\n",
    "    :type step: int\n",
    "    :type sparse_factor: float\n",
    "    :return: time_l lista con los tiempos en cada paso\n",
    "    \"\"\"\n",
    "    time_l = []\n",
    "    n = n_nodes_ini\n",
    "    while n <= n_nodes_fin:\n",
    "        m_g = rand_matr_pos_graph(n, sparse_factor)\n",
    "        #t = []\n",
    "        t = 0\n",
    "        for _ in range(n_graphs):\n",
    "            for i in range(n):\n",
    "                ini = time.time()\n",
    "                dijkstra_m(m_g,i)\n",
    "                fin = time.time()\n",
    "        #        t.append(fin-ini)\n",
    "                t+=(fin-ini)\n",
    "        #time_l.append(np.mean(t))\n",
    "        time_l.append(t/(n_graphs*n))\n",
    "        n+=step\n",
    "    return time_l     \n",
    "\n",
    "def time_dijkstra_d(n_graphs, n_nodes_ini, n_nodes_fin, step, sparse_factor=.25):\n",
    "    \"\"\" Genera un conjunto de grafos con distintos numeros de nodos para comprobar\n",
    "    el coste teorico del algoritmo de Dijkstra.\n",
    "    :n_grafos: numero de grafos a generar\n",
    "    :n_nodes_ini: numero inicial de nodos del grafo\n",
    "    :n_nodes_fin: numero final de nodos del grafo\n",
    "    :step: paso en cada iteracion de numero de nodos\n",
    "    :sparse_factor: factor de dispersion de la matriz\n",
    "    :type n_grafos: int\n",
    "    :type n_nodes_ini: int\n",
    "    :type n_nodes_fin: int\n",
    "    :type step: int\n",
    "    :type sparse_factor: float\n",
    "    :return: time_l lista de los tiempos en cada paso\n",
    "    \"\"\"\n",
    "\n",
    "    time_l = []\n",
    "    n = n_nodes_ini\n",
    "    while n <= n_nodes_fin:\n",
    "        m_g = rand_matr_pos_graph(n, sparse_factor)\n",
    "        d_g= m_g_2_d_g(m_g)\n",
    "        t = 0\n",
    "        for _ in range(n_graphs):\n",
    "            for i in range(n):\n",
    "                ini = time.time()\n",
    "                dijkstra_d(d_g,i)\n",
    "                fin = time.time()\n",
    "                t+=(fin-ini)\n",
    "        time_l.append(t/(n_graphs*n))\n",
    "        n+=step\n",
    "    return time_l\n",
    "\n",
    "############################################################ checking\n",
    "d_g = {\n",
    "0: {1: 10, 2: 1}, \n",
    "1: {2: 1}, \n",
    "2: {3: 1},\n",
    "3: {1: 1}\n",
    "}\n",
    "\n",
    "u_ini = 3\n",
    "\n",
    "d_dist, d_prev = dijkstra_d(d_g, u_ini)\n",
    "print(d_dist, '\\n', min_paths(d_prev))\n",
    "\n",
    "d_g_nx = nx.DiGraph()\n",
    "l_e = [(0, 1, 10), (0, 2, 1), (1, 2, 1), (2, 3, 1), (3, 1, 1)]\n",
    "d_g_nx.add_weighted_edges_from(l_e)\n",
    "\n",
    "d, p = nx.single_source_dijkstra(d_g_nx, u_ini, weight='weight')    \n",
    "print(d, '\\n', p)\n"
   ]
  },
  {
   "cell_type": "markdown",
   "metadata": {},
   "source": [
    "### 3.2 Plotting Dijkstra's Execution Times\n",
    "Fit below a linear model $ An^{2}logn+B $ to the times in the returned lists and plot the real and fitted times discussing the results."
   ]
  },
  {
   "cell_type": "code",
   "execution_count": 11,
   "metadata": {},
   "outputs": [],
   "source": [
    "n_graphs=20\n",
    "n_nodes_ini=10 \n",
    "n_nodes_fin=100\n",
    "step=10\n",
    "sparse_f= 0.25\n",
    "l_t_d = time_dijkstra_d(n_graphs=n_graphs, n_nodes_ini=n_nodes_ini, \n",
    "                        n_nodes_fin=n_nodes_fin, step=step, sparse_factor=sparse_f)"
   ]
  },
  {
   "cell_type": "code",
   "execution_count": 12,
   "metadata": {},
   "outputs": [],
   "source": [
    "n_graphs=20\n",
    "n_nodes_ini=10 \n",
    "n_nodes_fin=100\n",
    "step=10\n",
    "sparse_f= 0.25\n",
    "l_t_m = time_dijkstra_m(n_graphs=n_graphs, n_nodes_ini=n_nodes_ini, \n",
    "                        n_nodes_fin=n_nodes_fin, step=step, sparse_factor=sparse_f)"
   ]
  },
  {
   "cell_type": "code",
   "execution_count": 13,
   "metadata": {},
   "outputs": [
    {
     "data": {
      "image/png": "[encoded data removed]",
      "text/plain": [
       "<matplotlib.figure.Figure at 0x7f7779cbe3c8>"
      ]
     },
     "metadata": {
      "needs_background": "light"
     },
     "output_type": "display_data"
    }
   ],
   "source": [
    "fit_plot(l_t_d, n2_log_n, size_ini=n_nodes_ini, size_fin=n_nodes_fin, step=step)\n",
    "fit_plot(l_t_m, n2_log_n, size_ini=n_nodes_ini, size_fin=n_nodes_fin, step=step)"
   ]
  },
  {
   "cell_type": "markdown",
   "metadata": {},
   "source": [
    "# 4 The networkx Library\n",
    "We are going to use the networkx library to check our Dijkstra results and to get alternative times.\n",
    "\n",
    "An example of loading a networkx directed graph is to use a list (i, j, w) of (i, j) edges with weights w can be seen in the following cell:"
   ]
  },
  {
   "cell_type": "code",
   "execution_count": 21,
   "metadata": {},
   "outputs": [
    {
     "name": "stdout",
     "output_type": "stream",
     "text": [
      "( 0 1 ) 10\n",
      "( 0 2 ) 1\n",
      "( 1 2 ) 1\n",
      "( 2 3 ) 1\n",
      "( 3 1 ) 1\n"
     ]
    }
   ],
   "source": [
    "g = nx.DiGraph()\n",
    "\n",
    "l_e = [(0, 1, 10), (0, 2, 1), (1, 2, 1), (2, 3, 1), (3, 1, 1)]\n",
    "g.add_weighted_edges_from(l_e)\n",
    "\n",
    "for k1 in g.nodes():\n",
    "    for k2 in g[k1].keys():\n",
    "        print('(', k1, k2, ')', g[k1][k2]['weight'])"
   ]
  },
  {
   "cell_type": "code",
   "execution_count": 15,
   "metadata": {},
   "outputs": [
    {
     "name": "stdout",
     "output_type": "stream",
     "text": [
      "\n",
      "graph_from_dict:\n",
      "\n",
      "( 0 1 ) 10\n",
      "( 0 2 ) 1\n",
      "( 1 2 ) 1\n",
      "( 2 3 ) 1\n",
      "( 3 1 ) 1\n"
     ]
    },
    {
     "data": {
      "text/plain": [
       "{'weight': 10}"
      ]
     },
     "execution_count": 15,
     "metadata": {},
     "output_type": "execute_result"
    }
   ],
   "source": [
    "def d_g_2_nx_g(d_g):\n",
    "    \"\"\" Transforma un grafo de la representacion de doble diccionario a la\n",
    "    la usada por la biblioteca nx.\n",
    "    :d_g: diccionario a transformar en el formato nx; tripe diccionario\n",
    "    :d_g type: diccionario de diccionario, las claves del primer diccionario son\n",
    "    los nodos origen y las del segundo los nodos destino. Los valores del\n",
    "    diccionario mas interno son el peso de cada rama. Los nodos son valores enteros\n",
    "    los pesos en float\n",
    "    :return: grafo nx resultante\n",
    "    :return type: NetworkX graph\n",
    "    \"\"\"\n",
    "    d_g_nx = nx.DiGraph()\n",
    "    d_g_nx.add_weighted_edges_from([(u, v, d_g[u][v]) for u in d_g for v in d_g[u]])\n",
    "    return d_g_nx\n",
    "\n",
    "\n",
    "def nx_g_2_d_g(nx_g):\n",
    "    \"\"\" Transforma un grafo nx a la representacion de doble diccionario\n",
    "    :nx_g: grafo de nx\n",
    "    :nx_g type: NetworkX graph\n",
    "    :return: grafo en nuestra implementacion de doble diccionario\n",
    "    :return type: dict con claves int valor dict con claves int valor float\n",
    "    \"\"\"\n",
    "    l_e = nx_g.edges(data = True)\n",
    "    d_g = {}\n",
    "    for u, v, w in l_e:\n",
    "        try:\n",
    "            d_g[u][v]=w['weight']\n",
    "        except KeyError:\n",
    "            d_g[u]={v: w['weight']}\n",
    "    return d_g\n",
    "\n",
    "def time_dijkstra_nx(n_graphs, n_nodes_ini, n_nodes_fin, step, sparse_factor=.25):\n",
    "    \"\"\" Genera un conjunto de grafos con distintos numeros de nodos para comprobar\n",
    "    el coste teorico del algoritmo de Dijkstra implementado en la biblioteca Networkx.\n",
    "    :n_graphs: numero de grafos a generar\n",
    "    :n_nodes_ini: numero inicial de nodos del grafo\n",
    "    :n_nodes_fin: numero final de nodos del grafo\n",
    "    :step: paso en cada iteracion de numero de nodos\n",
    "    :sparse_factor: factor de dispersion del grafo\n",
    "    :type n_grafos: int\n",
    "    :type n_nodes_ini: int\n",
    "    :type n_nodes_fin: int\n",
    "    :type step: int\n",
    "    :type sparse_factor: float\n",
    "    :return: time_l lista con los tiempos en cada paso\n",
    "    :return type: lista de float\n",
    "    \"\"\"\n",
    "    time_l = []\n",
    "    n = n_nodes_ini\n",
    "    while n <= n_nodes_fin:\n",
    "        m_g = rand_matr_pos_graph(n, sparse_factor)\n",
    "        d_g= m_g_2_d_g(m_g)\n",
    "        nx_g = d_g_2_nx_g(d_g)\n",
    "        t = 0\n",
    "        for _ in range(n_graphs):\n",
    "            for i in range(n):\n",
    "                ini = time.time()\n",
    "                nx.single_source_dijkstra(nx_g, i)\n",
    "                fin = time.time()\n",
    "                t+=(fin-ini)\n",
    "        time_l.append(t/(n_graphs*n))\n",
    "        n+=step\n",
    "    return time_l\n",
    "\n",
    "\n",
    "############################################################ checking\n",
    "d_g = {\n",
    "0: {1: 10, 2: 1}, \n",
    "1: {2: 1}, \n",
    "2: {3: 1},\n",
    "3: {1: 1}\n",
    "}\n",
    "\n",
    "d_g_nx = d_g_2_nx_g(d_g)\n",
    "\n",
    "print_d_g(d_g)\n",
    "(d_g_nx)[0][1]"
   ]
  },
  {
   "cell_type": "code",
   "execution_count": 18,
   "metadata": {},
   "outputs": [],
   "source": [
    "n_graphs=20\n",
    "n_nodes_ini=10 \n",
    "n_nodes_fin=100\n",
    "step=10\n",
    "sparse_f= 0.25\n",
    "l_t_nx = time_dijkstra_nx(n_graphs=n_graphs, n_nodes_ini=n_nodes_ini, \n",
    "                          n_nodes_fin=n_nodes_fin, step=step, sparse_factor=sparse_f)"
   ]
  },
  {
   "cell_type": "code",
   "execution_count": 19,
   "metadata": {},
   "outputs": [
    {
     "data": {
      "image/png": "[encoded data removed]",
      "text/plain": [
       "<matplotlib.figure.Figure at 0x7f775a9ebcf8>"
      ]
     },
     "metadata": {
      "needs_background": "light"
     },
     "output_type": "display_data"
    }
   ],
   "source": [
    "fit_plot(l_t_nx, n2_log_n, size_ini=n_nodes_ini, size_fin=n_nodes_fin, step=step)"
   ]
  },
  {
   "cell_type": "markdown",
   "metadata": {},
   "source": [
    "# Cuestiones\n",
    "## Cuestiones sobre guardado de grafos\n",
    "Añadir código Python y figuras cuando se juzgue necesario.\n",
    "\n",
    "#### *Cuestión 1:*\n",
    "Describir qué se entiende por serializar un objeto Python.\n",
    "\n",
    "Serializar un objeto python consiste en guardar dicho objeto en un archivo binario.\n",
    "\n",
    "#### *Cuestión 2:*\n",
    "json es otro formato de serialiación de objetos. Comentar brevemente posibles diferencias entre pickle y json.\n",
    "\n",
    "Json se escribe en texto plano y es una representación similar a un diccionario de python con claves y valores.\n",
    "Pickle se escribe en un fichero binario y por tanto, a diferencia de json no es legible para \"un humano\".\n",
    "\n",
    "#### *Cuestión 3:*\n",
    "¿Qué ventajas e inconvenientes tendrían las funciones pickle sobre las construidas mediante el formato TGF? Responder algo pertinente y no con lugares comunes.\n",
    "\n",
    "Una posible ventaja de pickle es que el fichero se guarda en binario y por tanto tanto la lectura como la escritura es más rapida que TGF. El formato TGF nos parece redundante, pues la primera sección del fichero, describe los nodos, mientras que la segunda (a partir de #) vuelve a mostrar los nodos del grafo pero esta vez para describir las ramas.\n",
    "Por otro lado, una ventaja de TGF es que este formato es en texto plano y por tanto legible. Resulta sencillo escribir grafos en este formato para posteriormente leerlos con la función implementada y operar con ellos.\n",
    "\n",
    "## Cuestiones sobre Dijkstra\n",
    "#### *Cuestión 1:*\n",
    "¿Cuál es el coste teórico del algoritmo de Dijkstra? Justificar brevemente dicho coste.\n",
    "\n",
    "Sea G = (V, E) un grafo, hemos visto en clase que el coste teórico de Dijkstra es $|V|^{2}log(|V|)$.\n",
    "\n",
    "#### *Cuestión 2:¶*\n",
    "Expresar el coste de Dijkstra en función del número de nodos y el sparse factor  ρ  del grafo en cuestión. Para un número de nodos fijo adecuado, ¿cuál es el creciemiento del coste de Dijkstra en función de  ρ ?\n",
    "\n",
    "Ilustrar este crecimiento ejecutando Dijkstra sobre listas de adyacencia de grafos con un número fijo de nodos y sparse factors  0.1, 0.3, 0.5, 0.7, 0.9 y midiendo los correspondientes tiempos de ejecución.\n",
    "\n",
    "#### *Cuestión 3:*\n",
    "¿Cuál es el coste teórico del algoritmo de Dijkstra iterado para encontrar las distancias mínimas entre todos los vértices de un grafo?"
   ]
  },
  {
   "cell_type": "code",
   "execution_count": null,
   "metadata": {},
   "outputs": [],
   "source": []
  }
 ],
 "metadata": {
  "kernelspec": {
   "display_name": "Python 3",
   "language": "python",
   "name": "python3"
  },
  "language_info": {
   "codemirror_mode": {
    "name": "ipython",
    "version": 3
   },
   "file_extension": ".py",
   "mimetype": "text/x-python",
   "name": "python",
   "nbconvert_exporter": "python",
   "pygments_lexer": "ipython3",
   "version": "3.5.2"
  }
 },
 "nbformat": 4,
 "nbformat_minor": 2
}
