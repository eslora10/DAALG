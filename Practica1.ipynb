{
 "cells": [
  {
   "cell_type": "code",
   "execution_count": 1,
   "metadata": {},
   "outputs": [
    {
     "data": {
      "text/html": [
       "\n",
       "<script>code_show=true; \n",
       "\n",
       "function code_toggle() {\n",
       "    if (code_show){\n",
       "    $('div.input').hide();\n",
       "    } else {\n",
       "    $('div.input').show();\n",
       "    }\n",
       "    code_show = !code_show\n",
       "} \n",
       "\n",
       "$( document ).ready(code_toggle);\n",
       "</script>\n",
       "<form action=\"javascript:code_toggle()\"><input type=\"submit\" value=\"Click here to toggle on/off the raw code.\"></form>\n"
      ],
      "text/plain": [
       "<IPython.core.display.HTML object>"
      ]
     },
     "execution_count": 1,
     "metadata": {},
     "output_type": "execute_result"
    }
   ],
   "source": [
    "from IPython.display import HTML\n",
    "\n",
    "HTML('''\n",
    "<script>code_show=true; \n",
    "\n",
    "function code_toggle() {\n",
    "    if (code_show){\n",
    "    $('div.input').hide();\n",
    "    } else {\n",
    "    $('div.input').show();\n",
    "    }\n",
    "    code_show = !code_show\n",
    "} \n",
    "\n",
    "$( document ).ready(code_toggle);\n",
    "</script>\n",
    "<form action=\"javascript:code_toggle()\"><input type=\"submit\" value=\"Click here to toggle on/off the raw code.\"></form>\n",
    "''')"
   ]
  },
  {
   "cell_type": "markdown",
   "metadata": {},
   "source": [
    "# Práctica 1"
   ]
  },
  {
   "cell_type": "code",
   "execution_count": 2,
   "metadata": {},
   "outputs": [],
   "source": [
    "%matplotlib inline\n",
    "%load_ext autoreload\n",
    "%autoreload 2"
   ]
  },
  {
   "cell_type": "code",
   "execution_count": 3,
   "metadata": {},
   "outputs": [],
   "source": [
    "import string, random\n",
    "import numpy as np\n",
    "import matplotlib.pyplot as plt\n",
    "import sys\n",
    "import time\n",
    "\n",
    "import queue as qe\n",
    "\n",
    "from sklearn.linear_model import LinearRegression\n",
    "\n",
    "import networkx as nx"
   ]
  },
  {
   "cell_type": "code",
   "execution_count": 4,
   "metadata": {},
   "outputs": [],
   "source": [
    "def fit_plot(l, func_2_fit, size_ini, size_fin, step):\n",
    "    l_func_values =[i*func_2_fit(i) for i in range(size_ini, size_fin+1, step)]\n",
    "    \n",
    "    lr_m = LinearRegression()\n",
    "    X = np.array(l_func_values).reshape( len(l_func_values), -1 )\n",
    "    lr_m.fit(X, l)\n",
    "    y_pred = lr_m.predict(X)\n",
    "    \n",
    "    plt.plot(l, '*', y_pred, '-')\n",
    "\n",
    "def n2_log_n(n):\n",
    "    return n**2. * np.log(n)"
   ]
  },
  {
   "cell_type": "markdown",
   "metadata": {},
   "source": [
    "En esta parte vamos a trabajar con grafos ponderados usando dos EdD:\n",
    "\n",
    "Una matriz numpy de adyacencia, donde el elemento i, j indica el peso  c_{ij`  de la rama  (i, j)\n",
    "Un diccionario de diccionarios de diccionarios donde las claves del primer diccionario G son índices de nodos, las claves de los diccionarios G[i] son los vértices de su lista de adyacencia y un diccionario G[i][j] contiene el peso de la rama (i, j).\n",
    "Por ejemplo, para el gráfico\n",
    "\n",
    "grafo\n",
    "\n",
    "el código\n",
    "\n",
    "l = [[0, 10, 1, np.inf],\n",
    "[np.inf, 0, 1, np.inf],\n",
    "[np.inf, np.inf, 0, 1 ],\n",
    "[np.inf, 1, np.inf, 0]]\n",
    "\n",
    "m_g = np.array(l)\n",
    "\n",
    "generaría su matriz de adyacencia según se describe arriba, mientras que\n",
    "\n",
    "d_g = {\n",
    "0: {1: 10, 2:1}, \n",
    "1: {2: 1}, \n",
    "2: {3: 1},\n",
    "3: {1: 1}\n",
    "}\n",
    "\n",
    "generaría su descripción como un dict."
   ]
  },
  {
   "cell_type": "code",
   "execution_count": 5,
   "metadata": {},
   "outputs": [
    {
     "name": "stdout",
     "output_type": "stream",
     "text": [
      "graph_from_matrix:\n",
      "\n",
      "( 0 1 ) 10.0\n",
      "( 0 2 ) 1.0\n",
      "( 1 2 ) 1.0\n",
      "( 2 3 ) 1.0\n",
      "( 3 1 ) 1.0\n",
      "\n",
      "graph_from_dict:\n",
      "\n",
      "( 0 1 ) 10\n",
      "( 0 2 ) 1\n",
      "( 1 2 ) 1\n",
      "( 2 3 ) 1\n",
      "( 3 1 ) 1\n"
     ]
    }
   ],
   "source": [
    "l = [\n",
    "[0, 10, 1, np.inf],\n",
    "[np.inf, 0, 1, np.inf],\n",
    "[np.inf, np.inf, 0, 1 ],\n",
    "[np.inf, 1, np.inf, 0]\n",
    "]\n",
    "\n",
    "m_g = np.array(l)\n",
    "\n",
    "def print_m_g(m_g):\n",
    "    print(\"graph_from_matrix:\\n\")\n",
    "    n_v = m_g.shape[0]\n",
    "    for u in range(n_v):\n",
    "        for v in range(n_v):\n",
    "            if v != u and m_g[u, v] != np.inf:\n",
    "                print(\"(\", u, v, \")\", m_g[u, v])\n",
    "\n",
    "            \n",
    "d_g = {\n",
    "0: {1: 10, 2: 1}, \n",
    "1: {2: 1}, \n",
    "2: {3: 1},\n",
    "3: {1: 1}\n",
    "}\n",
    "\n",
    "def print_d_g(d_g):\n",
    "    print(\"\\ngraph_from_dict:\\n\")\n",
    "    for u in d_g.keys():\n",
    "        for v in d_g[u].keys():\n",
    "            print(\"(\", u, v, \")\", d_g[u][v])\n",
    "            \n",
    "print_m_g(m_g)\n",
    "print_d_g(d_g)\n"
   ]
  },
  {
   "cell_type": "code",
   "execution_count": 6,
   "metadata": {},
   "outputs": [
    {
     "name": "stdout",
     "output_type": "stream",
     "text": [
      "[[  0.  inf  41.]\n",
      " [ inf   0.  inf]\n",
      " [ inf  44.   0.]]\n",
      "{0: {2: 41.0}, 1: {}, 2: {1: 44.0}}\n",
      "[[  0.  inf  41.]\n",
      " [ inf   0.  inf]\n",
      " [ inf  44.   0.]]\n"
     ]
    }
   ],
   "source": [
    "def rand_matr_pos_graph(n_nodes, sparse_factor, max_weight=50., decimals=0):\n",
    "    \"\"\"\n",
    "    \n",
    "    \"\"\"\n",
    "    m=np.random.random((n_nodes, n_nodes))\n",
    "    np.place(m,m<1-sparse_factor,np.inf)\n",
    "    m=m*max_weight # Reescalado de los datos\n",
    "    np.fill_diagonal(m,0)\n",
    "    return m.round(decimals)\n",
    "\n",
    "def m_g_2_d_g(m_g):\n",
    "    \"\"\"\n",
    "    \n",
    "    TODO: ¿Hay que eliminar los 0's de lso dict?\n",
    "    \n",
    "    TODO: ¿Mejor forma de hacerlo?¿pythonic way?\n",
    "    \"\"\"\n",
    "    dim=m_g.shape\n",
    "    \n",
    "    d_g={}\n",
    "    for i in range(dim[0]):\n",
    "        d_g[i]={}\n",
    "        for j in range(dim[1]):\n",
    "            if j != i and m_g[i][j] != np.inf:\n",
    "                d_g[i][j]=m_g[i][j]\n",
    "\n",
    "    return d_g\n",
    "\n",
    "def d_g_2_m_g(d_g):\n",
    "    \"\"\"\n",
    "    \"\"\"\n",
    "    l = len(d_g)\n",
    "    m_g = np.full((l,l), np.inf)\n",
    "    for i in d_g:\n",
    "        for j in d_g[i]:\n",
    "            m_g[i][j] = d_g[i][j]\n",
    "    np.fill_diagonal(m_g,0)\n",
    "    return m_g\n",
    "\n",
    "if __name__=='__main__':\n",
    "    m = rand_matr_pos_graph(3,0.3)\n",
    "    print(m)\n",
    "    d = m_g_2_d_g(m)\n",
    "    print(d)\n",
    "    print(d_g_2_m_g(d))\n",
    "\n"
   ]
  },
  {
   "cell_type": "code",
   "execution_count": 7,
   "metadata": {},
   "outputs": [
    {
     "name": "stdout",
     "output_type": "stream",
     "text": [
      "5\n",
      "\n",
      "true_sparse_factor: 0.750 \n",
      "exp_sparse_factor:  0.714\n"
     ]
    }
   ],
   "source": [
    "def cuenta_ramas(m_g):\n",
    "    \"\"\"\n",
    "    \"\"\"\n",
    "    dim = m_g.shape[0]\n",
    "    # Al tamanno total de la matriz (dim**2) le restamos\n",
    "    # el numero de inf. \n",
    "    # Restamos los ceros de la diagonal\n",
    "    return dim**2-len(np.where(m_g == np.inf)[0])-dim    \n",
    "\n",
    "\n",
    "def check_sparse_factor(n_grafos, n_nodes, sparse_factor):\n",
    "    \"\"\"\n",
    "    \"\"\"\n",
    "    acum=0\n",
    "    for n in range(n_grafos):\n",
    "        m=rand_matr_pos_graph(n_nodes,sparse_factor)\n",
    "        sf=cuenta_ramas(m)/n_nodes**2\n",
    "\n",
    "        acum+=sf\n",
    "    return acum/n_grafos\n",
    "\n",
    "\n",
    "############################################################ checking\n",
    "print(cuenta_ramas(m_g))\n",
    "\n",
    "n_grafos=50\n",
    "n_nodes=20\n",
    "sparse_factor = 0.75\n",
    "\n",
    "print(\"\\ntrue_sparse_factor: %.3f\" % sparse_factor, \n",
    "      \"\\nexp_sparse_factor:  %.3f\" % check_sparse_factor(n_grafos=n_grafos, n_nodes=n_nodes, sparse_factor=sparse_factor))"
   ]
  },
  {
   "cell_type": "markdown",
   "metadata": {},
   "source": [
    "2 Guardando y leyendo grafos"
   ]
  },
  {
   "cell_type": "markdown",
   "metadata": {},
   "source": [
    "2.1 Guardando y leyendo grafos con pickle"
   ]
  },
  {
   "cell_type": "code",
   "execution_count": 8,
   "metadata": {},
   "outputs": [],
   "source": [
    "def save_object(obj, f_name=\"obj.pklz\", save_path='.'):\n",
    "    \"\"\"\"\"\"\n",
    "    # Apertura del fichero comprimido en modo escritura\n",
    "    file_path = os.path.join(save_path, f_name)\n",
    "    with gzip.open(file_path, mode=\"wb\", compresslevel=9) as file:\n",
    "        # Volcado del objeto\n",
    "        pickle.dump(obj, file, protocol=None)\n",
    "\n",
    "\n",
    "def read_object(f_name, save_path='.'):\n",
    "    \"\"\"\"\"\"\n",
    "    # Apertura del fichero comprimido en modo lectura\n",
    "    file_path = os.path.join(save_path, f_name)\n",
    "    with gzip.open(file_path, mode=\"rb\", compresslevel=9) as file:\n",
    "        # Lectura del objeto\n",
    "        pickle.load(file)\n",
    "       "
   ]
  },
  {
   "cell_type": "markdown",
   "metadata": {},
   "source": [
    "2.2 The Trivial Graph Format"
   ]
  },
  {
   "cell_type": "code",
   "execution_count": 28,
   "metadata": {},
   "outputs": [
    {
     "name": "stdout",
     "output_type": "stream",
     "text": [
      "\n",
      "graph_from_dict:\n",
      "\n",
      "( 0 1 ) 10\n",
      "( 0 2 ) 1\n",
      "( 1 2 ) 1\n",
      "( 2 3 ) 1\n",
      "( 3 1 ) 1\n",
      "\n",
      "graph_from_dict:\n",
      "\n",
      "( 0 1 ) 10.0\n",
      "( 0 2 ) 1.0\n",
      "( 1 2 ) 1.0\n",
      "( 2 3 ) 1.0\n",
      "( 3 1 ) 1.0\n"
     ]
    }
   ],
   "source": [
    "def d_g_2_TGF(d_g, f_name):\n",
    "    \"\"\"\n",
    "    \"\"\"\n",
    "    with open(f_name,'w') as f:\n",
    "        for k in d_g:\n",
    "            print(str(k), file=f)\n",
    "        print('#', file=f)\n",
    "\n",
    "        for d in d_g:\n",
    "            for dd in d_g[d]:\n",
    "                print(\"{0}\\t{1}\\t{2}\".format(d, dd, d_g[d][dd]), file=f)\n",
    "    \n",
    "def TGF_2_d_g(f_name):\n",
    "    \"\"\"\n",
    "    \"\"\"\n",
    "    d_g = {}\n",
    "    with open(f_name, 'r') as file:\n",
    "        ls= file.readlines()\n",
    "        i=0\n",
    "        for l in ls:\n",
    "            if l == '#\\n':\n",
    "                break\n",
    "            d_g[int(l[:-1])] = {}\n",
    "            i+=1\n",
    "        for line in ls[i+1:]:\n",
    "            rama = line[:-1].split('\\t')\n",
    "            d_g[int(rama[0])][int(rama[1])] = float(rama[2])\n",
    "    return d_g \n",
    "    \n",
    "    \n",
    "############################################################ checking\n",
    "f_name = \"gr.tgf\"\n",
    "d_g_2_TGF(d_g, f_name)\n",
    "                       \n",
    "d_g_2 = TGF_2_d_g(f_name)            \n",
    "print_d_g(d_g)\n",
    "print_d_g(d_g_2)"
   ]
  },
  {
   "cell_type": "markdown",
   "metadata": {},
   "source": [
    "3 Distancias Mínimas en Grafos"
   ]
  },
  {
   "cell_type": "markdown",
   "metadata": {},
   "source": [
    "3.1 Programming and Timing Dijkstra"
   ]
  },
  {
   "cell_type": "code",
   "execution_count": null,
   "metadata": {},
   "outputs": [],
   "source": [
    "def dijkstra_d(d_g, u):\n",
    "    \"\"\"\n",
    "    \"\"\"\n",
    "    pass\n",
    "\n",
    "   \n",
    "def min_paths(d_prev):\n",
    "    \"\"\"\n",
    "    \"\"\"\n",
    "    pass\n",
    "    \n",
    "    \n",
    "def time_dijkstra_m(n_graphs, n_nodes_ini, n_nodes_fin, step, sparse_factor=.25):\n",
    "    \"\"\"\n",
    "    \"\"\"\n",
    "    pass           \n",
    "\n",
    "\n",
    "def time_dijkstra_d(n_graphs, n_nodes_ini, n_nodes_fin, step, sparse_factor=.25):\n",
    "    \"\"\"\n",
    "    \"\"\"\n",
    "    pass\n",
    "\n",
    "############################################################ checking\n",
    "d_g = {\n",
    "0: {1: 10, 2: 1}, \n",
    "1: {2: 1}, \n",
    "2: {3: 1},\n",
    "3: {1: 1}\n",
    "}\n",
    "\n",
    "u_ini = 3\n",
    "\n",
    "d_dist, d_prev = dijkstra_d(d_g, u_ini)\n",
    "print(d_dist, '\\n', min_paths(d_prev))\n",
    "\n",
    "d_g_nx = nx.DiGraph()\n",
    "l_e = [(0, 1, 10), (0, 2, 1), (1, 2, 1), (2, 3, 1), (3, 1, 1)]\n",
    "d_g_nx.add_weighted_edges_from(l_e)\n",
    "\n",
    "d, p = nx.single_source_dijkstra(d_g_nx, u_ini, weight='weight')    \n",
    "print(d, '\\n', p)"
   ]
  },
  {
   "cell_type": "markdown",
   "metadata": {},
   "source": [
    "3.2 Plotting Dijkstra's Execution Times\n",
    "Fit below a linear model  An2logn+B  to the times in the returned lists and plot the real and fitted times discussing the results."
   ]
  },
  {
   "cell_type": "code",
   "execution_count": null,
   "metadata": {},
   "outputs": [],
   "source": [
    "n_graphs=20\n",
    "n_nodes_ini=10 \n",
    "n_nodes_fin=100\n",
    "step=10\n",
    "sparse_f= 0.25\n",
    "l_t_d = time_dijkstra_d(n_graphs=n_graphs, n_nodes_ini=n_nodes_ini, \n",
    "                        n_nodes_fin=n_nodes_fin, step=step, sparse_factor=sparse_f)"
   ]
  },
  {
   "cell_type": "code",
   "execution_count": null,
   "metadata": {},
   "outputs": [],
   "source": [
    "fit_plot(l_t_d, n2_log_n, size_ini=n_nodes_ini, size_fin=n_nodes_fin, step=step)"
   ]
  },
  {
   "cell_type": "markdown",
   "metadata": {},
   "source": [
    "4 The networkx Library\n",
    "We are going to use the networkx library to check our Dijkstra results and to get alternative times.\n",
    "\n",
    "An example of loading a networkx directed graph is to use a list (i, j, w) of (i, j) edges with weights w can be seen in the following cell:"
   ]
  },
  {
   "cell_type": "code",
   "execution_count": null,
   "metadata": {},
   "outputs": [],
   "source": [
    "g = nx.DiGraph()\n",
    "\n",
    "l_e = [(0, 1, 10), (0, 2, 1), (1, 2, 1), (2, 3, 1), (3, 1, 1)]\n",
    "g.add_weighted_edges_from(l_e)\n",
    "\n",
    "for k1 in g.nodes():\n",
    "    for k2 in g[k1].keys():\n",
    "        print('(', k1, k2, ')', g[k1][k2]['weight'])"
   ]
  },
  {
   "cell_type": "code",
   "execution_count": null,
   "metadata": {},
   "outputs": [],
   "source": [
    "def d_g_2_nx_g(d_g):\n",
    "    \"\"\"\n",
    "    \"\"\"\n",
    "    pass\n",
    "    \n",
    "\n",
    "def nx_g_2_d_g(nx_g):\n",
    "    \"\"\"\n",
    "    \"\"\"\n",
    "    pass\n",
    "    \n",
    "    \n",
    "def time_dijkstra_nx(n_graphs, n_nodes_ini, n_nodes_fin, step, sparse_factor=.25):\n",
    "    \"\"\"\n",
    "    \"\"\"\n",
    "    pass\n",
    "\n",
    "\n",
    "############################################################ checking\n",
    "d_g = {\n",
    "0: {1: 10, 2: 1}, \n",
    "1: {2: 1}, \n",
    "2: {3: 1},\n",
    "3: {1: 1}\n",
    "}\n",
    "\n",
    "d_g_nx = d_g_2_nx_g(d_g)\n",
    "\n",
    "print_d_g(d_g)\n",
    "(d_g_nx)[0][1]"
   ]
  },
  {
   "cell_type": "code",
   "execution_count": null,
   "metadata": {},
   "outputs": [],
   "source": [
    "n_graphs=20\n",
    "n_nodes_ini=10 \n",
    "n_nodes_fin=100\n",
    "step=10\n",
    "sparse_f= 0.25\n",
    "l_t_nx = time_dijkstra_nx(n_graphs=n_graphs, n_nodes_ini=n_nodes_ini, \n",
    "                          n_nodes_fin=n_nodes_fin, step=step, sparse_factor=sparse_f)"
   ]
  },
  {
   "cell_type": "code",
   "execution_count": null,
   "metadata": {},
   "outputs": [],
   "source": [
    "fit_plot(l_t_nx, n2_log_n, size_ini=n_nodes_ini, size_fin=n_nodes_fin, step=step)"
   ]
  }
 ],
 "metadata": {
  "kernelspec": {
   "display_name": "Python 3",
   "language": "python",
   "name": "python3"
  },
  "language_info": {
   "codemirror_mode": {
    "name": "ipython",
    "version": 3
   },
   "file_extension": ".py",
   "mimetype": "text/x-python",
   "name": "python",
   "nbconvert_exporter": "python",
   "pygments_lexer": "ipython3",
   "version": "3.5.2"
  }
 },
 "nbformat": 4,
 "nbformat_minor": 2
}
